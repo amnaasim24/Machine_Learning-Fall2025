{
 "cells": [
  {
   "cell_type": "markdown",
   "id": "1865232d",
   "metadata": {},
   "source": [
    "# Question 3 (B)"
   ]
  },
  {
   "cell_type": "code",
   "execution_count": null,
   "id": "22309c53",
   "metadata": {
    "vscode": {
     "languageId": "plaintext"
    }
   },
   "outputs": [],
   "source": [
    "import pandas as pd\n",
    "import numpy as np\n",
    "import matplotlib.pyplot as plt\n",
    "import seaborn as sns\n",
    "from sklearn.impute import SimpleImputer\n",
    "from sklearn.model_selection import train_test_split\n",
    "from sklearn.utils import resample\n",
    "from sklearn.feature_selection import VarianceThreshold\n",
    "\n",
    "\n",
    "df = pd.read_csv('train.csv')"
   ]
  },
  {
   "cell_type": "markdown",
   "id": "5a0af085",
   "metadata": {},
   "source": [
    "# (C)"
   ]
  },
  {
   "cell_type": "code",
   "execution_count": null,
   "id": "0fc80979",
   "metadata": {
    "vscode": {
     "languageId": "plaintext"
    }
   },
   "outputs": [],
   "source": [
    "print(\"Part C\")\n",
    "correlation = df[['var3', 'var38', 'var15', 'imp_op_var39_comer_ult1']].corr()\n",
    "print(correlation)"
   ]
  },
  {
   "cell_type": "markdown",
   "id": "3cd8babb",
   "metadata": {},
   "source": [
    "# (D)"
   ]
  },
  {
   "cell_type": "code",
   "execution_count": null,
   "id": "f5bce67a",
   "metadata": {
    "vscode": {
     "languageId": "plaintext"
    }
   },
   "outputs": [],
   "source": [
    "print(\"\\n\\nPart D\")\n",
    "sns.scatterplot(df[['var3', 'var38', 'var15', 'imp_op_var39_comer_ult1']])\n",
    "plt.show()"
   ]
  },
  {
   "cell_type": "markdown",
   "id": "26ba85db",
   "metadata": {},
   "source": [
    "# (E)"
   ]
  },
  {
   "cell_type": "code",
   "execution_count": null,
   "id": "b7b37219",
   "metadata": {
    "vscode": {
     "languageId": "plaintext"
    }
   },
   "outputs": [],
   "source": [
    "print(\"\\n\\nPart E\")\n",
    "missingrec = df.isnull().sum()\n",
    "print(missingrec)\n",
    "\n",
    "avgimpute = SimpleImputer(strategy='mean')\n",
    "newdf = pd.DataFrame(avgimpute.fit_transform(df), columns=df.columns)"
   ]
  },
  {
   "cell_type": "markdown",
   "id": "b56b502c",
   "metadata": {},
   "source": [
    "# (G)"
   ]
  },
  {
   "cell_type": "code",
   "execution_count": null,
   "id": "21cfa463",
   "metadata": {
    "vscode": {
     "languageId": "plaintext"
    }
   },
   "outputs": [],
   "source": [
    "print(\"Part G\")\n",
    "values = df['TARGET'].value_counts()\n",
    "print(values)\n",
    "\n",
    "sns.countplot(x='TARGET', data=df)\n",
    "plt.title('Target Variable Distribution')\n",
    "plt.show()"
   ]
  },
  {
   "cell_type": "markdown",
   "id": "2840734b",
   "metadata": {},
   "source": [
    "# (H)"
   ]
  },
  {
   "cell_type": "code",
   "execution_count": null,
   "id": "d6904265",
   "metadata": {
    "vscode": {
     "languageId": "plaintext"
    }
   },
   "outputs": [],
   "source": [
    "df_majority = df[df['TARGET'] == df['TARGET'].mode()[0]]\n",
    "df_minority = df[df['TARGET'] != df['TARGET'].mode()[0]]\n",
    "\n",
    "df_minority_upsampled = resample(df_minority,  replace=True,   \n",
    "                                 n_samples=len(df_majority),\n",
    "                                 random_state=40) \n",
    "\n",
    "df_balanced = pd.concat([df_majority, df_minority_upsampled])"
   ]
  },
  {
   "cell_type": "markdown",
   "id": "58bbe33c",
   "metadata": {},
   "source": [
    "# (I)"
   ]
  },
  {
   "cell_type": "code",
   "execution_count": null,
   "id": "c3cea22d",
   "metadata": {
    "vscode": {
     "languageId": "plaintext"
    }
   },
   "outputs": [],
   "source": [
    "print(\"\\n\\nPart I\")\n",
    "cor_matrix = df.corr().abs()\n",
    "upper_triangle = cor_matrix.where(np.triu(np.ones(cor_matrix.shape), k=1).astype(np.bool))\n",
    "\n",
    "to_drop = [column for column in upper_triangle.columns if any(upper_triangle[column] > 0.65)]\n",
    "df_reduced = df.drop(columns=to_drop)"
   ]
  },
  {
   "cell_type": "markdown",
   "id": "2d36b4ff",
   "metadata": {},
   "source": [
    "# (J)"
   ]
  },
  {
   "cell_type": "code",
   "execution_count": null,
   "id": "c08ce180",
   "metadata": {
    "vscode": {
     "languageId": "plaintext"
    }
   },
   "outputs": [],
   "source": [
    "print(\"\\n\\nPart J\")\n",
    "df_copy = df.copy()\n",
    "\n",
    "sel = VarianceThreshold(threshold=(.8 * (1 - .8)))\n",
    "df_reduced_variance = sel.fit_transform(df_copy)"
   ]
  }
 ],
 "metadata": {
  "language_info": {
   "name": "python"
  }
 },
 "nbformat": 4,
 "nbformat_minor": 5
}
