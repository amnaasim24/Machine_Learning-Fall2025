{
 "cells": [
  {
   "cell_type": "code",
   "execution_count": null,
   "id": "0a1bcba7",
   "metadata": {},
   "outputs": [],
   "source": [
    "import pandas as pd\n",
    "\n",
    "\n",
    "d1 = pd.read_csv(\"Lab2 D1A.csv\")\n",
    "d2 = pd.read_csv(\"Lab2 D1B.csv\")\n",
    "combined = pd.concat ([d1, d2], ignore_index = True, axis= 0) \n",
    "newd = combined.drop_duplicates()\n",
    "print(newd)\n",
    "\n",
    "\n",
    "d3 = pd.read_csv(\"Lab2 D1A.csv\") \n",
    "d4 = pd.read_csv(\"Lab2 D1C.csv\")\n",
    "comboAC = pd.merge (d3, d4) \n",
    "print(comboAC)"
   ]
  }
 ],
 "metadata": {
  "kernelspec": {
   "display_name": "Python 3",
   "language": "python",
   "name": "python3"
  },
  "language_info": {
   "name": "python",
   "version": "3.12.4"
  }
 },
 "nbformat": 4,
 "nbformat_minor": 5
}
